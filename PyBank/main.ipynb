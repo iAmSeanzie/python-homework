{
 "cells": [
  {
   "cell_type": "code",
   "execution_count": 1,
   "id": "ff8a5d83",
   "metadata": {},
   "outputs": [],
   "source": [
    "# @TODO: Import the pathlib and csv library\n",
    "import numpy as np\n",
    "from pathlib import Path\n",
    "import csv"
   ]
  },
  {
   "cell_type": "code",
   "execution_count": 72,
   "id": "63c04d14",
   "metadata": {},
   "outputs": [
    {
     "name": "stdout",
     "output_type": "stream",
     "text": [
      "86\n",
      "38382578\n",
      "Total Months: 86\n",
      "Total $ 38382578\n",
      "Average profit change is $ -2315.1176470588234\n",
      "Greatest increase in profit: Feb-2012 $1926159\n",
      "Greatest decrease in profit: Sep-2013 $-2196167\n"
     ]
    }
   ],
   "source": [
    "# @TODO: Set the file path\n",
    "file_path = (\"../Resources/budget_data.csv\")\n",
    "# @TODO: Initialize dictionary\n",
    "analysis = {}\n",
    "\n",
    "#Initialize the vaiables\n",
    "profitloss = 0\n",
    "profit = []\n",
    "profit_diff = []\n",
    "line_num = 0\n",
    "date = []\n",
    "count = 0\n",
    "\n",
    "# @TODO: Open the csv file as an object\n",
    "\n",
    "with open(file_path, 'r') as csvfile:\n",
    "    csvreader = csv.reader(csvfile, delimiter = ',')\n",
    "    csvheader = next(csvreader)\n",
    "    \n",
    "    total = int(row[1])\n",
    "    for row in csvreader:\n",
    "        count += 1\n",
    "        \n",
    "        profitloss += int(row[1])\n",
    "        profit.append(int(row[1]))\n",
    "        date.append(row[0])\n",
    "#    for row in csvreader:\n",
    "        \n",
    "    print(count)        \n",
    "print(profitloss)\n",
    "\n",
    "#The average of the changes in Profit/Losses over the entire period.    \n",
    "    # Average  Change: $-2315.12\n",
    "    \n",
    "for i in range(1, len(profit)):\n",
    "        profit_diff.append(profit[i] - profit[i-1])\n",
    "        avg_profit_change = sum(profit_diff)/len(profit_diff)\n",
    "        max_profit_change = max(profit_diff)\n",
    "        min_profit_change = min(profit_diff)\n",
    "        max_profit_date_change = str(date[profit_diff.index(max(profit_diff))+1])\n",
    "        min_profit_date_change = str(date[profit_diff.index(min(profit_diff))+1])\n",
    "\n",
    "print(f\"Total Months: {count}\")\n",
    "print(f\"Total $ {profitloss}\")\n",
    "print(f\"Average profit change is $ {avg_profit_change}\")\n",
    "print(f\"Greatest increase in profit: {max_profit_date_change} ${max_profit_change}\")\n",
    "print(f\"Greatest decrease in profit: {min_profit_date_change} ${min_profit_change}\")\n",
    "\n",
    "output_path = 'output.txt'\n",
    "\n",
    "# Open the output path as a file object\n",
    "with open(output_path, 'w') as file:\n",
    "    # Write daily_average to the output file, convert to string\n",
    "    file.write(f\"Total Months: {count}\\n\")\n",
    "    file.write(f\"Total $ {profitloss}\\n\")\n",
    "    file.write(f\"Average profit change is $ {avg_profit_change}\\n\")\n",
    "    file.write(f\"Greatest increase in profit: {max_profit_date_change} ${max_profit_change}\\n\")\n",
    "    file.write(f\"Greatest decrease in profit: {min_profit_date_change} ${min_profit_change}\\n\")"
   ]
  },
  {
   "cell_type": "code",
   "execution_count": null,
   "id": "79a7b362",
   "metadata": {},
   "outputs": [],
   "source": []
  }
 ],
 "metadata": {
  "kernelspec": {
   "display_name": "Python 3",
   "language": "python",
   "name": "python3"
  },
  "language_info": {
   "codemirror_mode": {
    "name": "ipython",
    "version": 3
   },
   "file_extension": ".py",
   "mimetype": "text/x-python",
   "name": "python",
   "nbconvert_exporter": "python",
   "pygments_lexer": "ipython3",
   "version": "3.8.5"
  }
 },
 "nbformat": 4,
 "nbformat_minor": 5
}
