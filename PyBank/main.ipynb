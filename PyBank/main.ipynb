{
 "cells": [
  {
   "cell_type": "code",
   "execution_count": 1,
   "id": "daf345c8",
   "metadata": {},
   "outputs": [],
   "source": [
    "# @TODO: Import the pathlib and csv library\n",
    "import numpy as np\n",
    "from pathlib import Path\n",
    "import csv"
   ]
  },
  {
   "cell_type": "code",
   "execution_count": 49,
   "id": "d7060270",
   "metadata": {},
   "outputs": [
    {
     "ename": "SyntaxError",
     "evalue": "unexpected EOF while parsing (<ipython-input-49-cbff2f529255>, line 34)",
     "output_type": "error",
     "traceback": [
      "\u001b[1;36m  File \u001b[1;32m\"<ipython-input-49-cbff2f529255>\"\u001b[1;36m, line \u001b[1;32m34\u001b[0m\n\u001b[1;33m    # average = round(revenue / count, 2)\u001b[0m\n\u001b[1;37m                                         ^\u001b[0m\n\u001b[1;31mSyntaxError\u001b[0m\u001b[1;31m:\u001b[0m unexpected EOF while parsing\n"
     ]
    }
   ],
   "source": [
    "# @TODO: Set the file path\n",
    "file_path = (\"../Resources/budget_data.csv\")\n",
    "# @TODO: Initialize dictionary\n",
    "analysis = {}\n",
    "\n",
    "#Initialize the vaiables\n",
    "profitloss = 0\n",
    "profit = []\n",
    "profit_diff = []\n",
    "line_num = 0\n",
    "date = []\n",
    "count = 0\n",
    "\n",
    "# @TODO: Open the csv file as an object\n",
    "\n",
    "with open(file_path, 'r') as csvfile:\n",
    "    csvreader = csv.reader(csvfile, delimiter = ',')\n",
    "    csvheader = next(csvreader)\n",
    "    \n",
    "    total = int(row[1])\n",
    "    for row in csvreader:\n",
    "        count += 1\n",
    "        \n",
    "        profitloss += int(row[1])\n",
    "        profit.append(int(row[1]))\n",
    "        date.append(row[0])\n",
    "#    for row in csvreader:\n",
    "        \n",
    "    print(count)        \n",
    "print(profitloss)\n",
    "\n",
    "#The average of the changes in Profit/Losses over the entire period.    \n",
    "    # Average  Change: $-2315.12\n",
    "    \n",
    "for i in range(1, len(profit)):\n",
    "    \n",
    "\n",
    "# average = round(revenue / count, 2)"
   ]
  },
  {
   "cell_type": "code",
   "execution_count": null,
   "id": "be7c1efc",
   "metadata": {},
   "outputs": [],
   "source": [
    "\"\"\"Student Do: Sales Analysis.\n",
    "\n",
    "This script will use the Pathlib library to set the file path,\n",
    "use the csv library to read in the file, and iterate over each\n",
    "row of the file to calculate customer sales averages.\n",
    "\"\"\"\n",
    "\n",
    "# @TODO: Import the pathlib and csv library\n",
    "from pathlib import Path\n",
    "import csv\n",
    "\n",
    "\n",
    "# @TODO: Set the file path\n",
    "csvpath = Path(\"../../Resources/sales.csv\")\n",
    "\n",
    "# @TODO: Initialize dictionary\n",
    "analysis = {}\n",
    "\n",
    "# @TODO: Open the csv file as an object\n",
    "with open(csvpath, \"r\") as csvfile:\n",
    "    # @TODO:\n",
    "    # Pass in the csv file to the csv.reader() function\n",
    "    # (with ',' as the delmiter/separator) and return the csvreader object\n",
    "    csvreader = csv.reader(csvfile, delimiter=\",\")\n",
    "\n",
    "    # @TODO: Read the header row first (skip this step if there is no header)\n",
    "    csvheader = next(csvreader)\n",
    "    # @TODO: Print the header\n",
    "    print(csvheader)\n",
    "\n",
    "    # @TODO: Read each row of data after the header\n",
    "    for row in csvreader:\n",
    "        # @TODO: Print the row\n",
    "        print(row)\n",
    "        # @TODO:\n",
    "        # Set the 'name', 'count', and 'revenue' variables for better\n",
    "        # readability, convert strings to ints for numerical calculations\n",
    "        name = row[0]\n",
    "        count = int(row[1])\n",
    "        revenue = int(row[2])\n",
    "\n",
    "\n",
    "        # @TODO: Calculate the average and round to the nearest 2 decimal places\n",
    "        average = round(revenue / count, 2)\n",
    "    \n",
    "        # @TODO:\n",
    "        # If name is not already in the analysis dict, initialize the dictionary\n",
    "        # Else continue to add to the existing key and nested key-value pairs\n",
    "\n",
    "        if name not in analysis.keys():\n",
    "            analysis[name] = {\"count\" : count, \"revenue\" : revenue}\n",
    "        else:\n",
    "            analysis[name][\"count\"] += count\n",
    "            analysis[name][\"revenue\"] += revenue"
   ]
  }
 ],
 "metadata": {
  "kernelspec": {
   "display_name": "Python 3",
   "language": "python",
   "name": "python3"
  },
  "language_info": {
   "codemirror_mode": {
    "name": "ipython",
    "version": 3
   },
   "file_extension": ".py",
   "mimetype": "text/x-python",
   "name": "python",
   "nbconvert_exporter": "python",
   "pygments_lexer": "ipython3",
   "version": "3.8.5"
  }
 },
 "nbformat": 4,
 "nbformat_minor": 5
}
